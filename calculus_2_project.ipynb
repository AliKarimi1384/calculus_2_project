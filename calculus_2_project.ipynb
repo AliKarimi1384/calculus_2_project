{
  "cells": [
    {
      "cell_type": "markdown",
      "id": "137b83aa",
      "metadata": {
        "id": "137b83aa"
      },
      "source": [
        "# Calculus 2 project\n",
        "## Ali Karimi\n",
        "total projects value: 7"
      ]
    },
    {
      "cell_type": "code",
      "execution_count": 26,
      "id": "b281627d",
      "metadata": {
        "id": "b281627d"
      },
      "outputs": [],
      "source": [
        "# import section:\n",
        "import numpy as np\n",
        "import autograd.numpy as anp\n",
        "from autograd import grad\n",
        "import matplotlib.pyplot as plt"
      ]
    },
    {
      "cell_type": "markdown",
      "id": "6466d168",
      "metadata": {
        "id": "6466d168"
      },
      "source": [
        "## project number 1\n",
        "### Calculating the gradient of a function\n",
        "#### value: 2"
      ]
    },
    {
      "cell_type": "code",
      "execution_count": 20,
      "id": "5071ab09",
      "metadata": {
        "colab": {
          "base_uri": "https://localhost:8080/"
        },
        "id": "5071ab09",
        "outputId": "197fc08c-4235-44a4-aedb-6925d2b2f973"
      },
      "outputs": [
        {
          "output_type": "stream",
          "name": "stdout",
          "text": [
            "Enter the number of function arguments: 3\n",
            "Enter the argument number 12\n",
            "Enter the argument number 22\n",
            "Enter the argument number 32\n",
            "[4. 3. 1.]\n"
          ]
        }
      ],
      "source": [
        "#func_1 is an example function. you can change it\n",
        "def func_1(arg):\n",
        "    return arg[0]**2 + 3*arg[1] + arg[2]\n",
        "count = int(input(\"Enter the number of function arguments: \"))\n",
        "list = []\n",
        "for i in range(count):\n",
        "    temp = float(input(\"Enter the argument number {}\".format(i+1)))\n",
        "    list.append(temp)\n",
        "gradient = grad(func_1)\n",
        "print(gradient(anp.array(list)))"
      ]
    },
    {
      "cell_type": "markdown",
      "source": [
        "## project number 2\n",
        "### Calculate the equation of the tangent plane\n",
        "#### value: 1"
      ],
      "metadata": {
        "id": "9uUkkF8W6-Ic"
      },
      "id": "9uUkkF8W6-Ic"
    },
    {
      "cell_type": "code",
      "source": [
        "#func_2 is an example function. you can change it\n",
        "def func_2(arg):\n",
        "  return arg[0]**2+arg[1]**2+arg[2]**2\n",
        "list2 = []\n",
        "for i in range(3):\n",
        "    temp = float(input(\"Enter the argument number {}\".format(i+1)))\n",
        "    list2.append(temp)\n",
        "gradient2 = grad(func_2)\n",
        "arr = np.array(gradient2(anp.array(list2)))\n",
        "const = -1 * (np.inner(arr,np.array(list)))\n",
        "oper = \"\"\n",
        "if const >= 0:\n",
        "  oper = \"+\"\n",
        "print(\"{}x + {}y + {}z {}{} = 0\".format(arr[0],arr[1],arr[2],oper,const))"
      ],
      "metadata": {
        "colab": {
          "base_uri": "https://localhost:8080/"
        },
        "id": "u1t2vK877RwB",
        "outputId": "7e5ab163-b110-4365-91a4-abd62ebe9322"
      },
      "id": "u1t2vK877RwB",
      "execution_count": 25,
      "outputs": [
        {
          "output_type": "stream",
          "name": "stdout",
          "text": [
            "Enter the argument number 112\n",
            "Enter the argument number 2-6\n",
            "Enter the argument number 356\n",
            "24.0x + -12.0y + 112.0z -248.0 = 0\n"
          ]
        }
      ]
    },
    {
      "cell_type": "markdown",
      "source": [
        "## project number 3\n",
        "### Draw the horizontal curve of a two-variable function\n",
        "#### value: 2"
      ],
      "metadata": {
        "id": "1Q9oBbKh_q9N"
      },
      "id": "1Q9oBbKh_q9N"
    },
    {
      "cell_type": "code",
      "source": [
        "#func_3 is an example function. you can change it\n",
        "#the function must only have two-variable\n",
        "def func_3(x,y):\n",
        "  return x**3+y*2\n",
        "xmin = int(input(\"Enter the xmin: \"))\n",
        "xmax = int(input(\"Enter the xmax: \"))\n",
        "ymin = int(input(\"Enter the ymin: \"))\n",
        "ymax = int(input(\"Enter the ymax: \"))\n",
        "num = int(input(\"Enter the number of contours: \"))\n",
        "x = np.linspace(xmin, xmax, 400)\n",
        "y = np.linspace(ymin, ymax, 400)\n",
        "X,Y = np.meshgrid(x, y)\n",
        "res = func_3(X,Y)\n",
        "plt.contour(X, Y, res, levels=[i for i in range(xmin,xmin+num+1)], colors='blue')\n",
        "plt.title(\"Contours of the func_3\")\n",
        "plt.xlabel('X')\n",
        "plt.ylabel('Y')\n",
        "plt.grid(True)\n",
        "plt.axhline(0, color='black',linewidth=0.1)\n",
        "plt.axvline(0, color='black',linewidth=0.1)\n",
        "plt.gca().set_aspect('equal', adjustable='box')\n",
        "plt.show()"
      ],
      "metadata": {
        "colab": {
          "base_uri": "https://localhost:8080/",
          "height": 559
        },
        "id": "UyCYylwJCr9S",
        "outputId": "d98aa545-961a-4017-90a4-1d8e17a4370c"
      },
      "id": "UyCYylwJCr9S",
      "execution_count": 38,
      "outputs": [
        {
          "name": "stdout",
          "output_type": "stream",
          "text": [
            "Enter the xmin: -5\n",
            "Enter the xmax: 5\n",
            "Enter the ymin: -5\n",
            "Enter the ymax: 5\n",
            "Enter the number of contours: 10\n"
          ]
        },
        {
          "output_type": "display_data",
          "data": {
            "text/plain": [
              "<Figure size 640x480 with 1 Axes>"
            ],
            "image/png": "[encoded data removed]"
          },
          "metadata": {}
        }
      ]
    },
    {
      "cell_type": "markdown",
      "source": [
        "## project number 4\n",
        "### Calculation of directional derivative\n",
        "#### value: 1"
      ],
      "metadata": {
        "id": "ISr6hM3BHf0X"
      },
      "id": "ISr6hM3BHf0X"
    },
    {
      "cell_type": "code",
      "source": [
        "#func_4 is an example function. you can change it\n",
        "def func_4(arg):\n",
        "  return arg[0]**2+arg[1]**2+arg[2]**2\n",
        "count2 = int(input(\"Enter the number of function arguments: \"))\n",
        "point = []\n",
        "print(\"Enter the coordinates of the point: \")\n",
        "for i in range(count2):\n",
        "  temp = float(input())\n",
        "  point.append(temp)\n",
        "vector = []\n",
        "print(\"Enter the coordinates of the vector: \")\n",
        "for i in range(count2):\n",
        "  temp = float(input())\n",
        "  vector.append(temp)\n",
        "gradient3 = grad(func_4)\n",
        "arr3 = np.array(gradient3(anp.array(point)))\n",
        "print(np.inner(arr3,np.array(vector)))"
      ],
      "metadata": {
        "colab": {
          "base_uri": "https://localhost:8080/"
        },
        "id": "lojfNyOLIJHB",
        "outputId": "30a84973-d679-4278-afbc-7dfcffe39291"
      },
      "id": "lojfNyOLIJHB",
      "execution_count": 33,
      "outputs": [
        {
          "output_type": "stream",
          "name": "stdout",
          "text": [
            "Enter the number of function arguments: 3\n",
            "Enter the coordinates of the point: \n",
            "1\n",
            "1\n",
            "1\n",
            "Enter the coordinates of the vector: \n",
            "1\n",
            "2\n",
            "3\n",
            "12.0\n"
          ]
        }
      ]
    },
    {
      "cell_type": "markdown",
      "source": [
        "## project number 5\n",
        "### Calculation of vector multiplication and inner multiplication of two vectors\n",
        "#### value: 1"
      ],
      "metadata": {
        "id": "fD-uF5q-O6rY"
      },
      "id": "fD-uF5q-O6rY"
    },
    {
      "cell_type": "code",
      "source": [
        "count3 = int(input(\"Enter the number of vectors dimensions: \"))\n",
        "vector1 = []\n",
        "vector2 = []\n",
        "print(\"Enter the coordinates of the vector1: \")\n",
        "for i in range(count3):\n",
        "  temp = float(input())\n",
        "  vector1.append(temp)\n",
        "print(\"Enter the coordinates of the vector2: \")\n",
        "for i in range(count3):\n",
        "  temp = float(input())\n",
        "  vector2.append(temp)\n",
        "print(\"cross multiplication:\",np.cross(np.array(vector1),np.array(vector2)))\n",
        "print(\"inner multiplication:\",np.inner(np.array(vector1),np.array(vector2)))"
      ],
      "metadata": {
        "colab": {
          "base_uri": "https://localhost:8080/"
        },
        "id": "X7kbtS7UPKti",
        "outputId": "70fd6c49-8420-4532-ef10-8b36e2927c10"
      },
      "id": "X7kbtS7UPKti",
      "execution_count": 37,
      "outputs": [
        {
          "output_type": "stream",
          "name": "stdout",
          "text": [
            "Enter the number of vectors dimensions: 3\n",
            "Enter the coordinates of the vector1: \n",
            "1\n",
            "1\n",
            "1\n",
            "Enter the coordinates of the vector2: \n",
            "1\n",
            "1\n",
            "1\n",
            "cross multiplication: [0. 0. 0.]\n",
            "inner multiplication: 3.0\n"
          ]
        }
      ]
    }
  ],
  "metadata": {
    "kernelspec": {
      "display_name": "Python 3 (ipykernel)",
      "language": "python",
      "name": "python3"
    },
    "language_info": {
      "codemirror_mode": {
        "name": "ipython",
        "version": 3
      },
      "file_extension": ".py",
      "mimetype": "text/x-python",
      "name": "python",
      "nbconvert_exporter": "python",
      "pygments_lexer": "ipython3",
      "version": "3.12.3"
    },
    "colab": {
      "provenance": []
    }
  },
  "nbformat": 4,
  "nbformat_minor": 5
}