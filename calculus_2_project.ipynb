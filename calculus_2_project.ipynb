{
 "cells": [
  {
   "cell_type": "markdown",
   "id": "137b83aa",
   "metadata": {},
   "source": [
    "# Calculus 2 project\n",
    "## Ali Karimi\n",
    "project values: 6"
   ]
  },
  {
   "cell_type": "code",
   "execution_count": 1,
   "id": "0f0d1496",
   "metadata": {},
   "outputs": [],
   "source": [
    "# import section:\n",
    "import numpy as np"
   ]
  },
  {
   "cell_type": "markdown",
   "id": "a95566a9",
   "metadata": {},
   "source": [
    "## project number "
   ]
  }
 ],
 "metadata": {
  "kernelspec": {
   "display_name": "Python 3 (ipykernel)",
   "language": "python",
   "name": "python3"
  },
  "language_info": {
   "codemirror_mode": {
    "name": "ipython",
    "version": 3
   },
   "file_extension": ".py",
   "mimetype": "text/x-python",
   "name": "python",
   "nbconvert_exporter": "python",
   "pygments_lexer": "ipython3",
   "version": "3.12.3"
  }
 },
 "nbformat": 4,
 "nbformat_minor": 5
}
