{
 "cells": [
  {
   "cell_type": "markdown",
   "id": "137b83aa",
   "metadata": {},
   "source": [
    "# Calculus 2 project\n",
    "## Ali Karimi\n",
    "total projects value: 6"
   ]
  },
  {
   "cell_type": "code",
   "execution_count": 2,
   "id": "b281627d",
   "metadata": {},
   "outputs": [],
   "source": [
    "# import section:\n",
    "import numpy as np"
   ]
  },
  {
   "cell_type": "markdown",
   "id": "6466d168",
   "metadata": {},
   "source": [
    "## project number 3\n",
    "### Calculating the gradient of a function\n",
    "#### value: 2"
   ]
  },
  {
   "cell_type": "code",
   "execution_count": 1,
   "id": "5071ab09",
   "metadata": {},
   "outputs": [
    {
     "name": "stdout",
     "output_type": "stream",
     "text": [
      "Enter the number of function arguments: 3\n",
      "Enter the argument number 11\n",
      "1.0\n",
      "Enter the argument number 22\n",
      "2.0\n",
      "Enter the argument number 35\n",
      "5.0\n"
     ]
    }
   ],
   "source": [
    "#func_1 is a example function. you can change it\n",
    "def func_1(x,y,z):\n",
    "    return x**2 + 3*y + z\n",
    "count = int(input(\"Enter the number of function arguments: \"))\n",
    "list = []\n",
    "for i in range(count):\n",
    "    temp = float(input(\"Enter the argument number {}\".format(i+1)))\n",
    "    list.append(temp)\n",
    "print(np.gr"
   ]
  }
 ],
 "metadata": {
  "kernelspec": {
   "display_name": "Python 3 (ipykernel)",
   "language": "python",
   "name": "python3"
  },
  "language_info": {
   "codemirror_mode": {
    "name": "ipython",
    "version": 3
   },
   "file_extension": ".py",
   "mimetype": "text/x-python",
   "name": "python",
   "nbconvert_exporter": "python",
   "pygments_lexer": "ipython3",
   "version": "3.12.3"
  }
 },
 "nbformat": 4,
 "nbformat_minor": 5
}
